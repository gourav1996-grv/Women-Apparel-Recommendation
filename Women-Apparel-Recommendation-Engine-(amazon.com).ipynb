{
 "cells": [
  {
   "cell_type": "markdown",
   "metadata": {},
   "source": [
    "Dataset: https://www.kaggle.com/ajaysh/women-apparel-recommendation-engine-amazoncom"
   ]
  },
  {
   "cell_type": "code",
   "execution_count": 1,
   "metadata": {},
   "outputs": [],
   "source": [
    "#import all the necessary packages.\n",
    "import matplotlib.pyplot as plt\n",
    "import numpy as np\n",
    "import pandas as pd\n",
    "import warnings\n",
    "from nltk.corpus import stopwords\n",
    "from nltk.tokenize import word_tokenize\n",
    "import nltk\n",
    "import math\n",
    "import os\n",
    "import seaborn as sns\n",
    "from collections import Counter\n",
    "from sklearn.feature_extraction.text import CountVectorizer\n",
    "from sklearn.feature_extraction.text import TfidfVectorizer\n",
    "from sklearn.metrics.pairwise import cosine_similarity  \n",
    "from sklearn.metrics import pairwise_distances\n",
    "warnings.filterwarnings(\"ignore\")"
   ]
  },
  {
   "cell_type": "code",
   "execution_count": 2,
   "metadata": {},
   "outputs": [],
   "source": [
    "df = pd.read_json('tops_fashion.json')"
   ]
  },
  {
   "cell_type": "code",
   "execution_count": 3,
   "metadata": {},
   "outputs": [
    {
     "data": {
      "text/html": [
       "<div>\n",
       "<style scoped>\n",
       "    .dataframe tbody tr th:only-of-type {\n",
       "        vertical-align: middle;\n",
       "    }\n",
       "\n",
       "    .dataframe tbody tr th {\n",
       "        vertical-align: top;\n",
       "    }\n",
       "\n",
       "    .dataframe thead th {\n",
       "        text-align: right;\n",
       "    }\n",
       "</style>\n",
       "<table border=\"1\" class=\"dataframe\">\n",
       "  <thead>\n",
       "    <tr style=\"text-align: right;\">\n",
       "      <th></th>\n",
       "      <th>asin</th>\n",
       "      <th>author</th>\n",
       "      <th>availability</th>\n",
       "      <th>availability_type</th>\n",
       "      <th>brand</th>\n",
       "      <th>color</th>\n",
       "      <th>editorial_reivew</th>\n",
       "      <th>editorial_review</th>\n",
       "      <th>formatted_price</th>\n",
       "      <th>large_image_url</th>\n",
       "      <th>manufacturer</th>\n",
       "      <th>medium_image_url</th>\n",
       "      <th>model</th>\n",
       "      <th>product_type_name</th>\n",
       "      <th>publisher</th>\n",
       "      <th>reviews</th>\n",
       "      <th>sku</th>\n",
       "      <th>small_image_url</th>\n",
       "      <th>title</th>\n",
       "    </tr>\n",
       "  </thead>\n",
       "  <tbody>\n",
       "    <tr>\n",
       "      <th>0</th>\n",
       "      <td>B016I2TS4W</td>\n",
       "      <td>None</td>\n",
       "      <td>None</td>\n",
       "      <td>None</td>\n",
       "      <td>FNC7C</td>\n",
       "      <td>None</td>\n",
       "      <td>NaN</td>\n",
       "      <td>Minions Como Superheroes Ironman Women's O Nec...</td>\n",
       "      <td>None</td>\n",
       "      <td>https://images-na.ssl-images-amazon.com/images...</td>\n",
       "      <td>None</td>\n",
       "      <td>https://images-na.ssl-images-amazon.com/images...</td>\n",
       "      <td>None</td>\n",
       "      <td>SHIRT</td>\n",
       "      <td>None</td>\n",
       "      <td>[False, https://www.amazon.com/reviews/iframe?...</td>\n",
       "      <td>None</td>\n",
       "      <td>https://images-na.ssl-images-amazon.com/images...</td>\n",
       "      <td>Minions Como Superheroes Ironman Long Sleeve R...</td>\n",
       "    </tr>\n",
       "    <tr>\n",
       "      <th>1</th>\n",
       "      <td>B01N49AI08</td>\n",
       "      <td>None</td>\n",
       "      <td>None</td>\n",
       "      <td>None</td>\n",
       "      <td>FIG Clothing</td>\n",
       "      <td>None</td>\n",
       "      <td>NaN</td>\n",
       "      <td>Sizing runs on the small side. FIG® recommends...</td>\n",
       "      <td>None</td>\n",
       "      <td>https://images-na.ssl-images-amazon.com/images...</td>\n",
       "      <td>None</td>\n",
       "      <td>https://images-na.ssl-images-amazon.com/images...</td>\n",
       "      <td>None</td>\n",
       "      <td>SHIRT</td>\n",
       "      <td>None</td>\n",
       "      <td>[False, https://www.amazon.com/reviews/iframe?...</td>\n",
       "      <td>None</td>\n",
       "      <td>https://images-na.ssl-images-amazon.com/images...</td>\n",
       "      <td>FIG Clothing Womens Izo Tunic</td>\n",
       "    </tr>\n",
       "    <tr>\n",
       "      <th>2</th>\n",
       "      <td>B01JDPCOHO</td>\n",
       "      <td>None</td>\n",
       "      <td>None</td>\n",
       "      <td>None</td>\n",
       "      <td>FIG Clothing</td>\n",
       "      <td>None</td>\n",
       "      <td>NaN</td>\n",
       "      <td>Sizing runs on the small side. FIG® recommends...</td>\n",
       "      <td>None</td>\n",
       "      <td>https://images-na.ssl-images-amazon.com/images...</td>\n",
       "      <td>None</td>\n",
       "      <td>https://images-na.ssl-images-amazon.com/images...</td>\n",
       "      <td>None</td>\n",
       "      <td>SHIRT</td>\n",
       "      <td>None</td>\n",
       "      <td>[False, https://www.amazon.com/reviews/iframe?...</td>\n",
       "      <td>None</td>\n",
       "      <td>https://images-na.ssl-images-amazon.com/images...</td>\n",
       "      <td>FIG Clothing Womens Won Top</td>\n",
       "    </tr>\n",
       "    <tr>\n",
       "      <th>3</th>\n",
       "      <td>B01N19U5H5</td>\n",
       "      <td>None</td>\n",
       "      <td>None</td>\n",
       "      <td>None</td>\n",
       "      <td>Focal18</td>\n",
       "      <td>None</td>\n",
       "      <td>NaN</td>\n",
       "      <td>100% Brand New &amp; Fashion&lt;br&gt; Quantity: 1 Piece...</td>\n",
       "      <td>None</td>\n",
       "      <td>https://images-na.ssl-images-amazon.com/images...</td>\n",
       "      <td>None</td>\n",
       "      <td>https://images-na.ssl-images-amazon.com/images...</td>\n",
       "      <td>None</td>\n",
       "      <td>SHIRT</td>\n",
       "      <td>None</td>\n",
       "      <td>[True, https://www.amazon.com/reviews/iframe?a...</td>\n",
       "      <td>None</td>\n",
       "      <td>https://images-na.ssl-images-amazon.com/images...</td>\n",
       "      <td>Focal18 Sailor Collar Bubble Sleeve Blouse Shi...</td>\n",
       "    </tr>\n",
       "    <tr>\n",
       "      <th>4</th>\n",
       "      <td>B004GSI2OS</td>\n",
       "      <td>None</td>\n",
       "      <td>Usually ships in 6-10 business days</td>\n",
       "      <td>now</td>\n",
       "      <td>FeatherLite</td>\n",
       "      <td>Onyx Black/ Stone</td>\n",
       "      <td>NaN</td>\n",
       "      <td></td>\n",
       "      <td>$26.26</td>\n",
       "      <td>https://images-na.ssl-images-amazon.com/images...</td>\n",
       "      <td>None</td>\n",
       "      <td>https://images-na.ssl-images-amazon.com/images...</td>\n",
       "      <td>None</td>\n",
       "      <td>SHIRT</td>\n",
       "      <td>None</td>\n",
       "      <td>[False, https://www.amazon.com/reviews/iframe?...</td>\n",
       "      <td>None</td>\n",
       "      <td>https://images-na.ssl-images-amazon.com/images...</td>\n",
       "      <td>Featherlite Ladies' Long Sleeve Stain Resistan...</td>\n",
       "    </tr>\n",
       "  </tbody>\n",
       "</table>\n",
       "</div>"
      ],
      "text/plain": [
       "         asin author                         availability availability_type  \\\n",
       "0  B016I2TS4W   None                                 None              None   \n",
       "1  B01N49AI08   None                                 None              None   \n",
       "2  B01JDPCOHO   None                                 None              None   \n",
       "3  B01N19U5H5   None                                 None              None   \n",
       "4  B004GSI2OS   None  Usually ships in 6-10 business days               now   \n",
       "\n",
       "          brand              color editorial_reivew  \\\n",
       "0         FNC7C               None              NaN   \n",
       "1  FIG Clothing               None              NaN   \n",
       "2  FIG Clothing               None              NaN   \n",
       "3       Focal18               None              NaN   \n",
       "4   FeatherLite  Onyx Black/ Stone              NaN   \n",
       "\n",
       "                                    editorial_review formatted_price  \\\n",
       "0  Minions Como Superheroes Ironman Women's O Nec...            None   \n",
       "1  Sizing runs on the small side. FIG® recommends...            None   \n",
       "2  Sizing runs on the small side. FIG® recommends...            None   \n",
       "3  100% Brand New & Fashion<br> Quantity: 1 Piece...            None   \n",
       "4                                                             $26.26   \n",
       "\n",
       "                                     large_image_url manufacturer  \\\n",
       "0  https://images-na.ssl-images-amazon.com/images...         None   \n",
       "1  https://images-na.ssl-images-amazon.com/images...         None   \n",
       "2  https://images-na.ssl-images-amazon.com/images...         None   \n",
       "3  https://images-na.ssl-images-amazon.com/images...         None   \n",
       "4  https://images-na.ssl-images-amazon.com/images...         None   \n",
       "\n",
       "                                    medium_image_url model product_type_name  \\\n",
       "0  https://images-na.ssl-images-amazon.com/images...  None             SHIRT   \n",
       "1  https://images-na.ssl-images-amazon.com/images...  None             SHIRT   \n",
       "2  https://images-na.ssl-images-amazon.com/images...  None             SHIRT   \n",
       "3  https://images-na.ssl-images-amazon.com/images...  None             SHIRT   \n",
       "4  https://images-na.ssl-images-amazon.com/images...  None             SHIRT   \n",
       "\n",
       "  publisher                                            reviews   sku  \\\n",
       "0      None  [False, https://www.amazon.com/reviews/iframe?...  None   \n",
       "1      None  [False, https://www.amazon.com/reviews/iframe?...  None   \n",
       "2      None  [False, https://www.amazon.com/reviews/iframe?...  None   \n",
       "3      None  [True, https://www.amazon.com/reviews/iframe?a...  None   \n",
       "4      None  [False, https://www.amazon.com/reviews/iframe?...  None   \n",
       "\n",
       "                                     small_image_url  \\\n",
       "0  https://images-na.ssl-images-amazon.com/images...   \n",
       "1  https://images-na.ssl-images-amazon.com/images...   \n",
       "2  https://images-na.ssl-images-amazon.com/images...   \n",
       "3  https://images-na.ssl-images-amazon.com/images...   \n",
       "4  https://images-na.ssl-images-amazon.com/images...   \n",
       "\n",
       "                                               title  \n",
       "0  Minions Como Superheroes Ironman Long Sleeve R...  \n",
       "1                      FIG Clothing Womens Izo Tunic  \n",
       "2                        FIG Clothing Womens Won Top  \n",
       "3  Focal18 Sailor Collar Bubble Sleeve Blouse Shi...  \n",
       "4  Featherlite Ladies' Long Sleeve Stain Resistan...  "
      ]
     },
     "execution_count": 3,
     "metadata": {},
     "output_type": "execute_result"
    }
   ],
   "source": [
    "df.head()"
   ]
  },
  {
   "cell_type": "code",
   "execution_count": 4,
   "metadata": {},
   "outputs": [
    {
     "name": "stdout",
     "output_type": "stream",
     "text": [
      "<class 'pandas.core.frame.DataFrame'>\n",
      "RangeIndex: 183138 entries, 0 to 183137\n",
      "Data columns (total 19 columns):\n",
      "asin                 183138 non-null object\n",
      "author               1 non-null object\n",
      "availability         24532 non-null object\n",
      "availability_type    24559 non-null object\n",
      "brand                182987 non-null object\n",
      "color                64956 non-null object\n",
      "editorial_reivew     180380 non-null object\n",
      "editorial_review     2758 non-null object\n",
      "formatted_price      28395 non-null object\n",
      "large_image_url      183138 non-null object\n",
      "manufacturer         42899 non-null object\n",
      "medium_image_url     183138 non-null object\n",
      "model                62370 non-null object\n",
      "product_type_name    183138 non-null object\n",
      "publisher            42899 non-null object\n",
      "reviews              183138 non-null object\n",
      "sku                  363 non-null object\n",
      "small_image_url      183138 non-null object\n",
      "title                183138 non-null object\n",
      "dtypes: object(19)\n",
      "memory usage: 26.5+ MB\n"
     ]
    }
   ],
   "source": [
    "df.info()"
   ]
  },
  {
   "cell_type": "code",
   "execution_count": 5,
   "metadata": {},
   "outputs": [],
   "source": [
    "df = df[['asin', 'brand', 'color', 'medium_image_url','product_type_name', 'title', 'formatted_price']]"
   ]
  },
  {
   "cell_type": "code",
   "execution_count": 6,
   "metadata": {},
   "outputs": [
    {
     "data": {
      "text/plain": [
       "count     182987\n",
       "unique     10577\n",
       "top         Zago\n",
       "freq         223\n",
       "Name: brand, dtype: object"
      ]
     },
     "execution_count": 6,
     "metadata": {},
     "output_type": "execute_result"
    }
   ],
   "source": [
    "df.brand.describe()"
   ]
  },
  {
   "cell_type": "code",
   "execution_count": 7,
   "metadata": {},
   "outputs": [
    {
     "data": {
      "text/plain": [
       "Zago                         223\n",
       "XQS                          222\n",
       "Yayun                        215\n",
       "YUNY                         198\n",
       "XiaoTianXin-women clothes    193\n",
       "Generic                      192\n",
       "Boohoo                       190\n",
       "Alion                        188\n",
       "TheMogan                     187\n",
       "Abetteric                    187\n",
       "Name: brand, dtype: int64"
      ]
     },
     "execution_count": 7,
     "metadata": {},
     "output_type": "execute_result"
    }
   ],
   "source": [
    "df.brand.value_counts().head(10)"
   ]
  },
  {
   "cell_type": "code",
   "execution_count": null,
   "metadata": {},
   "outputs": [],
   "source": []
  },
  {
   "cell_type": "code",
   "execution_count": 8,
   "metadata": {},
   "outputs": [
    {
     "data": {
      "text/plain": [
       "count     64956\n",
       "unique     7380\n",
       "top       Black\n",
       "freq      13207\n",
       "Name: color, dtype: object"
      ]
     },
     "execution_count": 8,
     "metadata": {},
     "output_type": "execute_result"
    }
   ],
   "source": [
    "df.color.describe()"
   ]
  },
  {
   "cell_type": "code",
   "execution_count": 9,
   "metadata": {},
   "outputs": [
    {
     "data": {
      "text/plain": [
       "Black    13207\n",
       "White     8616\n",
       "Blue      3570\n",
       "Red       2289\n",
       "Pink      1842\n",
       "Name: color, dtype: int64"
      ]
     },
     "execution_count": 9,
     "metadata": {},
     "output_type": "execute_result"
    }
   ],
   "source": [
    "df.color.value_counts().head(5)"
   ]
  },
  {
   "cell_type": "code",
   "execution_count": 10,
   "metadata": {},
   "outputs": [
    {
     "data": {
      "text/plain": [
       "183138"
      ]
     },
     "execution_count": 10,
     "metadata": {},
     "output_type": "execute_result"
    }
   ],
   "source": [
    "len(df['color'].isnull())"
   ]
  },
  {
   "cell_type": "code",
   "execution_count": 11,
   "metadata": {},
   "outputs": [
    {
     "data": {
      "text/plain": [
       "count     183138\n",
       "unique        72\n",
       "top        SHIRT\n",
       "freq      167794\n",
       "Name: product_type_name, dtype: object"
      ]
     },
     "execution_count": 11,
     "metadata": {},
     "output_type": "execute_result"
    }
   ],
   "source": [
    "df['product_type_name'].describe()"
   ]
  },
  {
   "cell_type": "code",
   "execution_count": 12,
   "metadata": {},
   "outputs": [
    {
     "data": {
      "text/plain": [
       "SHIRT                         167794\n",
       "APPAREL                         3549\n",
       "BOOKS_1973_AND_LATER            3336\n",
       "DRESS                           1584\n",
       "SPORTING_GOODS                  1281\n",
       "SWEATER                          837\n",
       "OUTERWEAR                        796\n",
       "OUTDOOR_RECREATION_PRODUCT       729\n",
       "ACCESSORY                        636\n",
       "UNDERWEAR                        425\n",
       "Name: product_type_name, dtype: int64"
      ]
     },
     "execution_count": 12,
     "metadata": {},
     "output_type": "execute_result"
    }
   ],
   "source": [
    "df.product_type_name.value_counts().head(10)"
   ]
  },
  {
   "cell_type": "code",
   "execution_count": 13,
   "metadata": {},
   "outputs": [
    {
     "data": {
      "text/plain": [
       "count                                                183138\n",
       "unique                                               175985\n",
       "top       Nakoda Cotton Self Print Straight Kurti For Women\n",
       "freq                                                     77\n",
       "Name: title, dtype: object"
      ]
     },
     "execution_count": 13,
     "metadata": {},
     "output_type": "execute_result"
    }
   ],
   "source": [
    "df['title'].describe()"
   ]
  },
  {
   "cell_type": "code",
   "execution_count": 14,
   "metadata": {},
   "outputs": [
    {
     "data": {
      "text/plain": [
       "count      28395\n",
       "unique      3135\n",
       "top       $19.99\n",
       "freq         945\n",
       "Name: formatted_price, dtype: object"
      ]
     },
     "execution_count": 14,
     "metadata": {},
     "output_type": "execute_result"
    }
   ],
   "source": [
    "df['formatted_price'].describe()"
   ]
  },
  {
   "cell_type": "code",
   "execution_count": 15,
   "metadata": {},
   "outputs": [
    {
     "name": "stdout",
     "output_type": "stream",
     "text": [
      "Number of data points : (28395, 7)\n"
     ]
    }
   ],
   "source": [
    "df = df.loc[~df['formatted_price'].isnull()]\n",
    "print('Number of data points :', df.shape)"
   ]
  },
  {
   "cell_type": "code",
   "execution_count": 16,
   "metadata": {},
   "outputs": [
    {
     "name": "stdout",
     "output_type": "stream",
     "text": [
      "Number of data : (28385, 7)\n"
     ]
    }
   ],
   "source": [
    "df =df.loc[~df['color'].isnull()]\n",
    "print('Number of data :', df.shape)"
   ]
  },
  {
   "cell_type": "code",
   "execution_count": 17,
   "metadata": {},
   "outputs": [
    {
     "name": "stdout",
     "output_type": "stream",
     "text": [
      "Number of data points : (28385, 7)\n"
     ]
    }
   ],
   "source": [
    "df =df.loc[~df['title'].isnull()]\n",
    "print('Number of data points :', df.shape)"
   ]
  },
  {
   "cell_type": "code",
   "execution_count": 19,
   "metadata": {},
   "outputs": [
    {
     "data": {
      "text/plain": [
       "2325"
      ]
     },
     "execution_count": 19,
     "metadata": {},
     "output_type": "execute_result"
    }
   ],
   "source": [
    "sum(df.duplicated('title'))"
   ]
  },
  {
   "cell_type": "code",
   "execution_count": 23,
   "metadata": {},
   "outputs": [
    {
     "data": {
      "text/html": [
       "<div>\n",
       "<style scoped>\n",
       "    .dataframe tbody tr th:only-of-type {\n",
       "        vertical-align: middle;\n",
       "    }\n",
       "\n",
       "    .dataframe tbody tr th {\n",
       "        vertical-align: top;\n",
       "    }\n",
       "\n",
       "    .dataframe thead th {\n",
       "        text-align: right;\n",
       "    }\n",
       "</style>\n",
       "<table border=\"1\" class=\"dataframe\">\n",
       "  <thead>\n",
       "    <tr style=\"text-align: right;\">\n",
       "      <th></th>\n",
       "      <th>asin</th>\n",
       "      <th>brand</th>\n",
       "      <th>color</th>\n",
       "      <th>medium_image_url</th>\n",
       "      <th>product_type_name</th>\n",
       "      <th>title</th>\n",
       "      <th>formatted_price</th>\n",
       "    </tr>\n",
       "  </thead>\n",
       "  <tbody>\n",
       "    <tr>\n",
       "      <th>21150</th>\n",
       "      <td>B00AQ4GM1G</td>\n",
       "      <td>Red Kap</td>\n",
       "      <td>BB</td>\n",
       "      <td>https://images-na.ssl-images-amazon.com/images...</td>\n",
       "      <td>OUTERWEAR</td>\n",
       "      <td>Red Kap Lee Women's Basic Pique Polo, Women, 5...</td>\n",
       "      <td>$20.79</td>\n",
       "    </tr>\n",
       "    <tr>\n",
       "      <th>22628</th>\n",
       "      <td>B00AQ4GMTS</td>\n",
       "      <td>Red Kap</td>\n",
       "      <td>BR</td>\n",
       "      <td>https://images-na.ssl-images-amazon.com/images...</td>\n",
       "      <td>OUTERWEAR</td>\n",
       "      <td>Red Kap Lee Women's Basic Pique Polo, Women, 5...</td>\n",
       "      <td>$18.72</td>\n",
       "    </tr>\n",
       "    <tr>\n",
       "      <th>35672</th>\n",
       "      <td>B00AQ4GMLQ</td>\n",
       "      <td>Red Kap</td>\n",
       "      <td>BR</td>\n",
       "      <td>https://images-na.ssl-images-amazon.com/images...</td>\n",
       "      <td>OUTERWEAR</td>\n",
       "      <td>Red Kap Lee Women's Basic Pique Polo, Women, 5...</td>\n",
       "      <td>$17.46</td>\n",
       "    </tr>\n",
       "    <tr>\n",
       "      <th>45145</th>\n",
       "      <td>B00AQ4GMCK</td>\n",
       "      <td>Red Kap</td>\n",
       "      <td>BR</td>\n",
       "      <td>https://images-na.ssl-images-amazon.com/images...</td>\n",
       "      <td>OUTERWEAR</td>\n",
       "      <td>Red Kap Lee Women's Basic Pique Polo, Women, 5...</td>\n",
       "      <td>$17.46</td>\n",
       "    </tr>\n",
       "  </tbody>\n",
       "</table>\n",
       "</div>"
      ],
      "text/plain": [
       "             asin    brand color  \\\n",
       "21150  B00AQ4GM1G  Red Kap    BB   \n",
       "22628  B00AQ4GMTS  Red Kap    BR   \n",
       "35672  B00AQ4GMLQ  Red Kap    BR   \n",
       "45145  B00AQ4GMCK  Red Kap    BR   \n",
       "\n",
       "                                        medium_image_url product_type_name  \\\n",
       "21150  https://images-na.ssl-images-amazon.com/images...         OUTERWEAR   \n",
       "22628  https://images-na.ssl-images-amazon.com/images...         OUTERWEAR   \n",
       "35672  https://images-na.ssl-images-amazon.com/images...         OUTERWEAR   \n",
       "45145  https://images-na.ssl-images-amazon.com/images...         OUTERWEAR   \n",
       "\n",
       "                                                   title formatted_price  \n",
       "21150  Red Kap Lee Women's Basic Pique Polo, Women, 5...          $20.79  \n",
       "22628  Red Kap Lee Women's Basic Pique Polo, Women, 5...          $18.72  \n",
       "35672  Red Kap Lee Women's Basic Pique Polo, Women, 5...          $17.46  \n",
       "45145  Red Kap Lee Women's Basic Pique Polo, Women, 5...          $17.46  "
      ]
     },
     "execution_count": 23,
     "metadata": {},
     "output_type": "execute_result"
    }
   ],
   "source": [
    "df[df['asin'].str.contains('B00AQ4GM')==True]"
   ]
  },
  {
   "cell_type": "code",
   "execution_count": 26,
   "metadata": {},
   "outputs": [
    {
     "name": "stdout",
     "output_type": "stream",
     "text": [
      "After removal of products with short description: 27949\n"
     ]
    }
   ],
   "source": [
    "df_long = df[df['title'].apply(lambda x: len(x.split())>4)]\n",
    "print(\"After removal of products with short description:\", df_long.shape[0])"
   ]
  },
  {
   "cell_type": "code",
   "execution_count": 27,
   "metadata": {},
   "outputs": [
    {
     "data": {
      "text/html": [
       "<div>\n",
       "<style scoped>\n",
       "    .dataframe tbody tr th:only-of-type {\n",
       "        vertical-align: middle;\n",
       "    }\n",
       "\n",
       "    .dataframe tbody tr th {\n",
       "        vertical-align: top;\n",
       "    }\n",
       "\n",
       "    .dataframe thead th {\n",
       "        text-align: right;\n",
       "    }\n",
       "</style>\n",
       "<table border=\"1\" class=\"dataframe\">\n",
       "  <thead>\n",
       "    <tr style=\"text-align: right;\">\n",
       "      <th></th>\n",
       "      <th>asin</th>\n",
       "      <th>brand</th>\n",
       "      <th>color</th>\n",
       "      <th>medium_image_url</th>\n",
       "      <th>product_type_name</th>\n",
       "      <th>title</th>\n",
       "      <th>formatted_price</th>\n",
       "    </tr>\n",
       "  </thead>\n",
       "  <tbody>\n",
       "    <tr>\n",
       "      <th>61973</th>\n",
       "      <td>B06Y1KZ2WB</td>\n",
       "      <td>Éclair</td>\n",
       "      <td>Black/Pink</td>\n",
       "      <td>https://images-na.ssl-images-amazon.com/images...</td>\n",
       "      <td>SHIRT</td>\n",
       "      <td>Éclair Women's Printed Thin Strap Blouse Black...</td>\n",
       "      <td>$24.99</td>\n",
       "    </tr>\n",
       "    <tr>\n",
       "      <th>133820</th>\n",
       "      <td>B010RV33VE</td>\n",
       "      <td>xiaoming</td>\n",
       "      <td>Pink</td>\n",
       "      <td>https://images-na.ssl-images-amazon.com/images...</td>\n",
       "      <td>SHIRT</td>\n",
       "      <td>xiaoming Womens Sleeveless Loose Long T-shirts...</td>\n",
       "      <td>$18.19</td>\n",
       "    </tr>\n",
       "    <tr>\n",
       "      <th>81461</th>\n",
       "      <td>B01DDSDLNS</td>\n",
       "      <td>xiaoming</td>\n",
       "      <td>White</td>\n",
       "      <td>https://images-na.ssl-images-amazon.com/images...</td>\n",
       "      <td>SHIRT</td>\n",
       "      <td>xiaoming Women's White Long Sleeve Single Brea...</td>\n",
       "      <td>$21.58</td>\n",
       "    </tr>\n",
       "    <tr>\n",
       "      <th>75995</th>\n",
       "      <td>B00X5LYO9Y</td>\n",
       "      <td>xiaoming</td>\n",
       "      <td>Red Anchors</td>\n",
       "      <td>https://images-na.ssl-images-amazon.com/images...</td>\n",
       "      <td>SHIRT</td>\n",
       "      <td>xiaoming Stripes Tank Patch/Bear Sleeve Anchor...</td>\n",
       "      <td>$15.91</td>\n",
       "    </tr>\n",
       "    <tr>\n",
       "      <th>151570</th>\n",
       "      <td>B00WPJG35K</td>\n",
       "      <td>xiaoming</td>\n",
       "      <td>White</td>\n",
       "      <td>https://images-na.ssl-images-amazon.com/images...</td>\n",
       "      <td>SHIRT</td>\n",
       "      <td>xiaoming Sleeve Sheer Loose Tassel Kimono Woma...</td>\n",
       "      <td>$14.32</td>\n",
       "    </tr>\n",
       "  </tbody>\n",
       "</table>\n",
       "</div>"
      ],
      "text/plain": [
       "              asin     brand        color  \\\n",
       "61973   B06Y1KZ2WB    Éclair   Black/Pink   \n",
       "133820  B010RV33VE  xiaoming         Pink   \n",
       "81461   B01DDSDLNS  xiaoming        White   \n",
       "75995   B00X5LYO9Y  xiaoming  Red Anchors   \n",
       "151570  B00WPJG35K  xiaoming        White   \n",
       "\n",
       "                                         medium_image_url product_type_name  \\\n",
       "61973   https://images-na.ssl-images-amazon.com/images...             SHIRT   \n",
       "133820  https://images-na.ssl-images-amazon.com/images...             SHIRT   \n",
       "81461   https://images-na.ssl-images-amazon.com/images...             SHIRT   \n",
       "75995   https://images-na.ssl-images-amazon.com/images...             SHIRT   \n",
       "151570  https://images-na.ssl-images-amazon.com/images...             SHIRT   \n",
       "\n",
       "                                                    title formatted_price  \n",
       "61973   Éclair Women's Printed Thin Strap Blouse Black...          $24.99  \n",
       "133820  xiaoming Womens Sleeveless Loose Long T-shirts...          $18.19  \n",
       "81461   xiaoming Women's White Long Sleeve Single Brea...          $21.58  \n",
       "75995   xiaoming Stripes Tank Patch/Bear Sleeve Anchor...          $15.91  \n",
       "151570  xiaoming Sleeve Sheer Loose Tassel Kimono Woma...          $14.32  "
      ]
     },
     "execution_count": 27,
     "metadata": {},
     "output_type": "execute_result"
    }
   ],
   "source": [
    "df_long.sort_values('title',inplace=True, ascending=False)\n",
    "df_long.head()"
   ]
  },
  {
   "cell_type": "code",
   "execution_count": 28,
   "metadata": {},
   "outputs": [],
   "source": [
    "indices = []\n",
    "for i,row in df_long.iterrows():\n",
    "    indices.append(i)"
   ]
  },
  {
   "cell_type": "code",
   "execution_count": 29,
   "metadata": {},
   "outputs": [],
   "source": [
    "import itertools\n",
    "dupe_asins = []\n",
    "i = 0\n",
    "j = 0\n",
    "num_data_points = df_long.shape[0]\n",
    "while i < num_data_points and j < num_data_points:   \n",
    "    previous_i = i\n",
    "    # store the list of words of ith string in a\n",
    "    a = df['title'].loc[indices[i]].split()\n",
    "    # search for the similar products sequentially \n",
    "    j = i+1\n",
    "    while j < num_data_points:\n",
    "        # store the list of words of jth string in b\n",
    "        b = df['title'].loc[indices[j]].split()\n",
    "        # store the maximum length of two strings\n",
    "        length = max(len(a), len(b))\n",
    "        # count is used to store the number of words that are matched in both strings\n",
    "        count  = 0\n",
    "\n",
    "        for k in itertools.zip_longest(a,b): \n",
    "            if (k[0] == k[1]):\n",
    "                count += 1\n",
    "\n",
    "        if (length - count) > 2: # number of words in which both sensences differ\n",
    "            # if both strings are differ by more than 2 words we include the 1st string index\n",
    "            dupe_asins.append(df_long['asin'].loc[indices[i]])\n",
    "\n",
    "            # if the comaprision between is between num_data_points, num_data_points-1 strings and they differ in more than 2 words we include both\n",
    "            if j == num_data_points-1: dupe_asins.append(df_long['asin'].loc[indices[j]])\n",
    "\n",
    "            # start searching for similar apperals corresponds 2nd string\n",
    "            i = j\n",
    "            break\n",
    "        else:\n",
    "            j += 1\n",
    "    if previous_i == i:\n",
    "        break"
   ]
  },
  {
   "cell_type": "code",
   "execution_count": 30,
   "metadata": {},
   "outputs": [],
   "source": [
    "df = df.loc[df['asin'].isin(dupe_asins)]"
   ]
  },
  {
   "cell_type": "code",
   "execution_count": 31,
   "metadata": {},
   "outputs": [
    {
     "data": {
      "text/plain": [
       "(17593, 7)"
      ]
     },
     "execution_count": 31,
     "metadata": {},
     "output_type": "execute_result"
    }
   ],
   "source": [
    "df.shape"
   ]
  },
  {
   "cell_type": "code",
   "execution_count": 33,
   "metadata": {},
   "outputs": [],
   "source": [
    "df.to_pickle('apparel_data_small')"
   ]
  },
  {
   "cell_type": "code",
   "execution_count": 36,
   "metadata": {},
   "outputs": [
    {
     "name": "stdout",
     "output_type": "stream",
     "text": [
      "list of stop words: {'re', 'he', 'or', 'wasn', 'ain', \"wouldn't\", 'its', 'while', 'shouldn', 'there', 'myself', 'into', \"doesn't\", \"she's\", \"hadn't\", 'me', 'between', 'don', 'than', 'those', 'yourselves', \"you're\", 'isn', \"needn't\", 'above', 'whom', 'once', \"shan't\", \"that'll\", 'y', 'further', \"aren't\", 'again', 'nor', \"didn't\", 'ma', 'it', 's', 'won', 'if', 'mightn', 'but', 'is', 'herself', 'themselves', 'which', 'such', \"shouldn't\", 'o', 't', 'up', 'then', 'and', 'now', 'any', 'from', 'under', \"should've\", 'my', 'an', \"won't\", 'didn', 'before', 'in', \"couldn't\", 'here', 'their', \"you'll\", 'during', 'to', \"mustn't\", 'will', \"you've\", 'yourself', \"it's\", 'by', 'most', 'that', 'who', 'having', 'each', 'some', 'had', 'm', 'for', 'same', 'down', 'his', 'they', 'through', 'does', 'why', \"mightn't\", 'after', 'of', 'weren', 'own', \"haven't\", 'just', 'these', 'until', \"isn't\", 'mustn', 'did', 'am', 'on', 'aren', 'theirs', 'out', 'ourselves', 'about', 'them', 'only', 'we', 'other', \"don't\", 'as', 'him', 've', 'not', 'your', 'with', 'are', 'very', 'll', 'hadn', \"weren't\", 'itself', 'himself', 'been', \"hasn't\", 'below', 'was', 'yours', 'hers', 'her', 'our', \"you'd\", 'so', 'doesn', \"wasn't\", 'doing', 'more', 'be', 'how', 'against', 'hasn', 'no', 'off', 'needn', 'when', 'this', 'where', 'should', 'has', 'she', 'because', 'at', 'both', 'shan', 'd', 'do', 'few', 'over', 'couldn', 'a', 'all', 'haven', 'ours', 'the', 'being', 'i', 'you', 'were', 'can', 'what', 'have', 'wouldn', 'too'}\n"
     ]
    }
   ],
   "source": [
    "# we use the list of stop words that are downloaded from nltk lib.\n",
    "stop_words = set(stopwords.words('english'))\n",
    "print ('list of stop words:', stop_words)\n",
    "\n",
    "def nlp_preprocessing(total_text, index, column):\n",
    "    if type(total_text) is not int:\n",
    "        string = \"\"\n",
    "        for words in total_text.split():\n",
    "            # remove the special chars in review like '\"#$@!%^&*()_+-~?>< etc.\n",
    "            word = (\"\".join(e for e in words if e.isalnum()))\n",
    "            # Conver all letters to lower-case\n",
    "            word = word.lower()\n",
    "            # stop-word removal\n",
    "            if not word in stop_words:\n",
    "                string += word + \" \"\n",
    "        df[column][index] = string"
   ]
  },
  {
   "cell_type": "code",
   "execution_count": 37,
   "metadata": {},
   "outputs": [],
   "source": [
    "# we take each title and we text-preprocess it.\n",
    "for index, row in df.iterrows():\n",
    "    nlp_preprocessing(row['title'], index, 'title')"
   ]
  },
  {
   "cell_type": "code",
   "execution_count": 39,
   "metadata": {},
   "outputs": [],
   "source": [
    "df.to_pickle('apperal_data_preprocessed')"
   ]
  },
  {
   "cell_type": "code",
   "execution_count": 40,
   "metadata": {},
   "outputs": [
    {
     "name": "stdout",
     "output_type": "stream",
     "text": [
      "argu\n",
      "fish\n"
     ]
    }
   ],
   "source": [
    "from nltk.stem.porter import *\n",
    "stemmer = PorterStemmer()\n",
    "print(stemmer.stem('arguing'))\n"
   ]
  },
  {
   "cell_type": "code",
   "execution_count": 42,
   "metadata": {},
   "outputs": [
    {
     "data": {
      "text/plain": [
       "(17593, 12927)"
      ]
     },
     "execution_count": 42,
     "metadata": {},
     "output_type": "execute_result"
    }
   ],
   "source": [
    "from sklearn.feature_extraction.text import CountVectorizer\n",
    "title_vectorizer = CountVectorizer()\n",
    "title_features   = title_vectorizer.fit_transform(df['title'])\n",
    "title_features.get_shape()"
   ]
  },
  {
   "cell_type": "code",
   "execution_count": 57,
   "metadata": {},
   "outputs": [
    {
     "name": "stdout",
     "output_type": "stream",
     "text": [
      "ASIN : B00YONC7AU\n",
      "Brand: AutumnFall\n",
      "Title: autumnfall woman sleeveless vneck candy vest loose tank tops tshirt \n",
      "Image: https://images-na.ssl-images-amazon.com/images/I/31dys31f4tL._SL160_.jpg\n",
      "Euclidean similarity with the query image : 0.0\n",
      "============================================================\n",
      "ASIN : B00YBYZ6Q4\n",
      "Brand: WenHong\n",
      "Title: wenhong women cute sleeveless vneck vest loose tank tops tshirt \n",
      "Image: https://images-na.ssl-images-amazon.com/images/I/51CDPWB5-4L._SL160_.jpg\n",
      "Euclidean similarity with the query image : 2.449489742783178\n",
      "============================================================\n",
      "ASIN : B014F88CT8\n",
      "Brand: Black Temptation\n",
      "Title: sunflower leisure vest comfortable tank tops chiffon sleeveless tshirt \n",
      "Image: https://images-na.ssl-images-amazon.com/images/I/51ge2Ze2%2B-L._SL160_.jpg\n",
      "Euclidean similarity with the query image : 3.0\n",
      "============================================================\n",
      "ASIN : B01IENQA1C\n",
      "Brand: JUNKE\n",
      "Title: junke summer woman lady sleeveless vneck candy vest loose tank tops 3 pack 3 pack \n",
      "Image: https://images-na.ssl-images-amazon.com/images/I/41UgLHWmzmL._SL160_.jpg\n",
      "Euclidean similarity with the query image : 3.0\n",
      "============================================================\n",
      "ASIN : B00XTLXV4Y\n",
      "Brand: Simplicity\n",
      "Title: simplicity summer women sleeveless tshirt vest tank tops 6759yellowblue \n",
      "Image: https://images-na.ssl-images-amazon.com/images/I/41nN5QQ6RtL._SL160_.jpg\n",
      "Euclidean similarity with the query image : 3.0\n",
      "============================================================\n",
      "ASIN : B00UCVVSUI\n",
      "Brand: Aimadi\n",
      "Title: aimadi womens girls digital printed sleeveless tshirt vest tank tops \n",
      "Image: https://images-na.ssl-images-amazon.com/images/I/51UCbIuhP2L._SL160_.jpg\n",
      "Euclidean similarity with the query image : 3.1622776601683795\n",
      "============================================================\n",
      "ASIN : B01J5EVMVW\n",
      "Brand: Ladies Tank Top\n",
      "Title: bucknell womens tank top sleeveless vest \n",
      "Image: https://images-na.ssl-images-amazon.com/images/I/411eYp7loLL._SL160_.jpg\n",
      "Euclidean similarity with the query image : 3.1622776601683795\n",
      "============================================================\n",
      "ASIN : B075451TLG\n",
      "Brand: Rbwinner\n",
      "Title: girls chiffon tshirt blouse ruffles sleeveless tank tops \n",
      "Image: https://images-na.ssl-images-amazon.com/images/I/419dFFwCKSL._SL160_.jpg\n",
      "Euclidean similarity with the query image : 3.1622776601683795\n",
      "============================================================\n",
      "ASIN : B00TZUTX22\n",
      "Brand: kingfansion\n",
      "Title: kingfansion sexy vest tank tops white \n",
      "Image: https://images-na.ssl-images-amazon.com/images/I/51oGQ6JuyZL._SL160_.jpg\n",
      "Euclidean similarity with the query image : 3.1622776601683795\n",
      "============================================================\n",
      "ASIN : B01I4T1N3Q\n",
      "Brand: Kriscate\n",
      "Title: kriscate sexy vest top sleeveless blouse tank tops tshirt black l \n",
      "Image: https://images-na.ssl-images-amazon.com/images/I/41YCnNLce-L._SL160_.jpg\n",
      "Euclidean similarity with the query image : 3.1622776601683795\n",
      "============================================================\n"
     ]
    }
   ],
   "source": [
    "def bag_of_words_model(doc_id, num_results):\n",
    "    pairwise_dist = pairwise_distances(title_features,title_features[doc_id])\n",
    "    # returns indices of the smallest distances\n",
    "    indices = np.argsort(pairwise_dist.flatten())[0:num_results]\n",
    "    #pdists will store the smallest distances\n",
    "    pdists  = np.sort(pairwise_dist.flatten())[0:num_results]\n",
    "    data frame indices of the 9 smallest distace's\n",
    "    df_indices = list(df.index[indices])\n",
    "    \n",
    "    for i in range(0,len(indices)):\n",
    "        print('ASIN :',df['asin'].loc[df_indices[i]])\n",
    "        print ('Brand:', df['brand'].loc[df_indices[i]])\n",
    "        print ('Title:', df['title'].loc[df_indices[i]])\n",
    "        print ('Image:', df['medium_image_url'].loc[df_indices[i]])\n",
    "        print ('Euclidean similarity with the query image :', pdists[i])\n",
    "        print('='*60)\n",
    "\n",
    "#call the bag-of-words model for a product to get similar products.\n",
    "bag_of_words_model(666, 10)\n"
   ]
  },
  {
   "cell_type": "code",
   "execution_count": 60,
   "metadata": {},
   "outputs": [],
   "source": [
    "tfidf_title_vectorizer = TfidfVectorizer(min_df = 0)\n",
    "tfidf_title_features = tfidf_title_vectorizer.fit_transform(df['title'])"
   ]
  },
  {
   "cell_type": "code",
   "execution_count": 62,
   "metadata": {},
   "outputs": [
    {
     "name": "stdout",
     "output_type": "stream",
     "text": [
      "ASIN : B00YONC7AU\n",
      "BRAND : AutumnFall\n",
      "Image: https://images-na.ssl-images-amazon.com/images/I/31dys31f4tL._SL160_.jpg\n",
      "Eucliden distance from the given image : 0.0\n",
      "=============================================================================================================================\n",
      "ASIN : B01IENQA1C\n",
      "BRAND : JUNKE\n",
      "Image: https://images-na.ssl-images-amazon.com/images/I/41UgLHWmzmL._SL160_.jpg\n",
      "Eucliden distance from the given image : 0.9940536355903371\n",
      "=============================================================================================================================\n",
      "ASIN : B07543MPXY\n",
      "BRAND : Rbwinner\n",
      "Image: https://images-na.ssl-images-amazon.com/images/I/41ESPu1pwTL._SL160_.jpg\n",
      "Eucliden distance from the given image : 1.0800725833224063\n",
      "=============================================================================================================================\n",
      "ASIN : B00YBYZ6Q4\n",
      "BRAND : WenHong\n",
      "Image: https://images-na.ssl-images-amazon.com/images/I/51CDPWB5-4L._SL160_.jpg\n",
      "Eucliden distance from the given image : 1.1003337374613402\n",
      "=============================================================================================================================\n",
      "ASIN : B07549N5F4\n",
      "BRAND : Rbwinner\n",
      "Image: https://images-na.ssl-images-amazon.com/images/I/31VHkZ9EP-L._SL160_.jpg\n",
      "Eucliden distance from the given image : 1.1169549818005586\n",
      "=============================================================================================================================\n",
      "ASIN : B00WR3W448\n",
      "BRAND : AutumnFall\n",
      "Image: https://images-na.ssl-images-amazon.com/images/I/41mfjfsikOL._SL160_.jpg\n",
      "Eucliden distance from the given image : 1.160350235552665\n",
      "=============================================================================================================================\n",
      "ASIN : B072KH8HBJ\n",
      "BRAND : OULII\n",
      "Image: https://images-na.ssl-images-amazon.com/images/I/417J8Y0sWJL._SL160_.jpg\n",
      "Eucliden distance from the given image : 1.1694770929538132\n",
      "=============================================================================================================================\n",
      "ASIN : B01HDKQ5IU\n",
      "BRAND : Dorathy\n",
      "Image: https://images-na.ssl-images-amazon.com/images/I/51GsJ1qHpLL._SL160_.jpg\n",
      "Eucliden distance from the given image : 1.1699410052636876\n",
      "=============================================================================================================================\n",
      "ASIN : B00Z6HFR4Q\n",
      "BRAND : Black Temptation\n",
      "Image: https://images-na.ssl-images-amazon.com/images/I/41birM6BrzL._SL160_.jpg\n",
      "Eucliden distance from the given image : 1.1901146981618587\n",
      "=============================================================================================================================\n",
      "ASIN : B01LZN9WWQ\n",
      "BRAND : Dorathy\n",
      "Image: https://images-na.ssl-images-amazon.com/images/I/41Z8COwGtRL._SL160_.jpg\n",
      "Eucliden distance from the given image : 1.1961828046437983\n",
      "=============================================================================================================================\n",
      "ASIN : B00WJPNIA8\n",
      "BRAND : YICHUN\n",
      "Image: https://images-na.ssl-images-amazon.com/images/I/51QpXek48CL._SL160_.jpg\n",
      "Eucliden distance from the given image : 1.1963646021055068\n",
      "=============================================================================================================================\n",
      "ASIN : B00Z6HG4Z2\n",
      "BRAND : Black Temptation\n",
      "Image: https://images-na.ssl-images-amazon.com/images/I/41b%2ByeTA5nL._SL160_.jpg\n",
      "Eucliden distance from the given image : 1.1984241436472303\n",
      "=============================================================================================================================\n",
      "ASIN : B017DHFKNY\n",
      "BRAND : Bila\n",
      "Image: https://images-na.ssl-images-amazon.com/images/I/61FNe0IwnOL._SL160_.jpg\n",
      "Eucliden distance from the given image : 1.201219514685614\n",
      "=============================================================================================================================\n",
      "ASIN : B00Z6HEBQQ\n",
      "BRAND : Black Temptation\n",
      "Image: https://images-na.ssl-images-amazon.com/images/I/41C8ReYszeL._SL160_.jpg\n",
      "Eucliden distance from the given image : 1.2018994085624277\n",
      "=============================================================================================================================\n",
      "ASIN : B01AFUTSNY\n",
      "BRAND : Qiyuxow\n",
      "Image: https://images-na.ssl-images-amazon.com/images/I/41SldsoRCiL._SL160_.jpg\n",
      "Eucliden distance from the given image : 1.204485647604962\n",
      "=============================================================================================================================\n",
      "ASIN : B01I4T1N3Q\n",
      "BRAND : Kriscate\n",
      "Image: https://images-na.ssl-images-amazon.com/images/I/41YCnNLce-L._SL160_.jpg\n",
      "Eucliden distance from the given image : 1.208431645120504\n",
      "=============================================================================================================================\n",
      "ASIN : B07548GJWY\n",
      "BRAND : Rbwinner\n",
      "Image: https://images-na.ssl-images-amazon.com/images/I/3101zKzxtQL._SL160_.jpg\n",
      "Eucliden distance from the given image : 1.209793423088715\n",
      "=============================================================================================================================\n",
      "ASIN : B01F852VDK\n",
      "BRAND : Perman\n",
      "Image: https://images-na.ssl-images-amazon.com/images/I/41w5Los-uBL._SL160_.jpg\n",
      "Eucliden distance from the given image : 1.2140181251854159\n",
      "=============================================================================================================================\n",
      "ASIN : B071Y6W6D8\n",
      "BRAND : Best Music Posters\n",
      "Image: https://images-na.ssl-images-amazon.com/images/I/3193funqXYL._SL160_.jpg\n",
      "Eucliden distance from the given image : 1.2141062315505642\n",
      "=============================================================================================================================\n",
      "ASIN : B00QGEJ3MA\n",
      "BRAND : Towallmark\n",
      "Image: https://images-na.ssl-images-amazon.com/images/I/51Fr3CtFPdL._SL160_.jpg\n",
      "Eucliden distance from the given image : 1.217096321658078\n",
      "=============================================================================================================================\n"
     ]
    }
   ],
   "source": [
    "def tfidf_model(doc_id, num_results):\n",
    "    pairwise_dist = pairwise_distances(tfidf_title_features,tfidf_title_features[doc_id])\n",
    "    # np.argsort will return indices of smallest distances\n",
    "    indices = np.argsort(pairwise_dist.flatten())[0:num_results]\n",
    "    #pdists will store the smallest distances\n",
    "    pdists  = np.sort(pairwise_dist.flatten())[0:num_results]\n",
    "    #data frame indices of the 9 smallest distace's\n",
    "    df_indices = list(df.index[indices])\n",
    "\n",
    "    for i in range(0,len(indices)):\n",
    "        print('ASIN :',df['asin'].loc[df_indices[i]])\n",
    "        print('BRAND :',df['brand'].loc[df_indices[i]])\n",
    "        print ('Image:', df['medium_image_url'].loc[df_indices[i]])\n",
    "        print ('Eucliden distance from the given image :', pdists[i])\n",
    "        print('='*125)\n",
    "tfidf_model(666, 20)"
   ]
  },
  {
   "cell_type": "code",
   "execution_count": 63,
   "metadata": {},
   "outputs": [],
   "source": [
    "df.to_pickle('apparel_data_recommendation')"
   ]
  },
  {
   "cell_type": "code",
   "execution_count": null,
   "metadata": {},
   "outputs": [],
   "source": []
  }
 ],
 "metadata": {
  "kernelspec": {
   "display_name": "Python 3",
   "language": "python",
   "name": "python3"
  },
  "language_info": {
   "codemirror_mode": {
    "name": "ipython",
    "version": 3
   },
   "file_extension": ".py",
   "mimetype": "text/x-python",
   "name": "python",
   "nbconvert_exporter": "python",
   "pygments_lexer": "ipython3",
   "version": "3.7.1"
  }
 },
 "nbformat": 4,
 "nbformat_minor": 2
}
